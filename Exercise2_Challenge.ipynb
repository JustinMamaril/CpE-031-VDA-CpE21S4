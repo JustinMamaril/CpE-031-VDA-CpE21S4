{
  "nbformat": 4,
  "nbformat_minor": 0,
  "metadata": {
    "colab": {
      "provenance": [],
      "authorship_tag": "ABX9TyPpeRiKUfEVvjP9W0ZlRuls",
      "include_colab_link": true
    },
    "kernelspec": {
      "name": "python3",
      "display_name": "Python 3"
    },
    "language_info": {
      "name": "python"
    }
  },
  "cells": [
    {
      "cell_type": "markdown",
      "metadata": {
        "id": "view-in-github",
        "colab_type": "text"
      },
      "source": [
        "<a href=\"https://colab.research.google.com/github/JustinMamaril/CpE-031-VDA-CpE21S4/blob/main/Exercise2_Challenge.ipynb\" target=\"_parent\"><img src=\"https://colab.research.google.com/assets/colab-badge.svg\" alt=\"Open In Colab\"/></a>"
      ]
    },
    {
      "cell_type": "markdown",
      "source": [
        "Example 1"
      ],
      "metadata": {
        "id": "IMug96dsEgRN"
      }
    },
    {
      "cell_type": "code",
      "execution_count": null,
      "metadata": {
        "colab": {
          "base_uri": "https://localhost:8080/"
        },
        "id": "MHeNESd5EVOk",
        "outputId": "5fc9d67d-04cf-4c0a-8d6a-1e461754b1c2"
      },
      "outputs": [
        {
          "output_type": "stream",
          "name": "stdout",
          "text": [
            "  animals  height\n",
            "0     Cat      13\n",
            "1     Dog      17\n",
            "2  Rabbit       8\n"
          ]
        }
      ],
      "source": [
        "import pandas\n",
        "\n",
        "mydataset = {\n",
        "'animals': [\"Cat\", \"Dog\", \"Rabbit\"],\n",
        "'height': [13, 17, 8]\n",
        "}\n",
        "\n",
        "myvar = pandas.DataFrame(mydataset)\n",
        "\n",
        "print(myvar)"
      ]
    },
    {
      "cell_type": "markdown",
      "source": [
        "Example 2"
      ],
      "metadata": {
        "id": "ELW9BTUMEuJB"
      }
    },
    {
      "cell_type": "code",
      "source": [
        "import pandas as pd\n",
        "a = [1,7,2]\n",
        "myvar = pd.Series(a)\n",
        "print(myvar)"
      ],
      "metadata": {
        "colab": {
          "base_uri": "https://localhost:8080/"
        },
        "id": "28_yL1Z_Evyy",
        "outputId": "5b4a435e-cca3-4f9f-cdcd-d377321159e7"
      },
      "execution_count": null,
      "outputs": [
        {
          "output_type": "stream",
          "name": "stdout",
          "text": [
            "0    1\n",
            "1    7\n",
            "2    2\n",
            "dtype: int64\n"
          ]
        }
      ]
    },
    {
      "cell_type": "markdown",
      "source": [
        "Example 3"
      ],
      "metadata": {
        "id": "ajL106OjE6u8"
      }
    },
    {
      "cell_type": "code",
      "source": [
        "import pandas as pd\n",
        "data = {\"age\": [42, 38, 39], \"weight\": [50, 40, 45]}\n",
        "myvar = pd.DataFrame(data)\n",
        "print(myvar)"
      ],
      "metadata": {
        "colab": {
          "base_uri": "https://localhost:8080/"
        },
        "id": "lbboXaOHE7nL",
        "outputId": "0da463a5-747b-41d4-8d12-a62239023aed"
      },
      "execution_count": null,
      "outputs": [
        {
          "output_type": "stream",
          "name": "stdout",
          "text": [
            "   age  weight\n",
            "0   42      50\n",
            "1   38      40\n",
            "2   39      45\n"
          ]
        }
      ]
    },
    {
      "cell_type": "markdown",
      "source": [
        "Example 4"
      ],
      "metadata": {
        "id": "A8f9W3B3E8qR"
      }
    },
    {
      "cell_type": "code",
      "source": [
        "import pandas as pd\n",
        "s1 = pd.Series([0,4,8])\n",
        "s2 = pd.Series([1,5,9])\n",
        "s3 = pd.Series([2,6,8])\n",
        "\n",
        "dframe = pd.DataFrame([s1, s2, s3])\n",
        "print(dframe.loc[1:])"
      ],
      "metadata": {
        "colab": {
          "base_uri": "https://localhost:8080/"
        },
        "id": "YxkkUz7yFDoK",
        "outputId": "b6634be0-27af-4643-f8c2-5c1428f0289b"
      },
      "execution_count": null,
      "outputs": [
        {
          "output_type": "stream",
          "name": "stdout",
          "text": [
            "   0  1  2\n",
            "1  1  5  9\n",
            "2  2  6  8\n"
          ]
        }
      ]
    },
    {
      "cell_type": "markdown",
      "source": [
        "Example 5"
      ],
      "metadata": {
        "id": "3L0B1z0UFhhS"
      }
    },
    {
      "cell_type": "code",
      "source": [
        "import pandas as pd\n",
        "s1 = pd.Series([0,4,8])\n",
        "s2 = pd.Series([1,5,9])\n",
        "s3 = pd.Series([2,6,8])\n",
        "s4 = pd.Series([5,10,15])\n",
        "\n",
        "#creating multi-dimensional table\n",
        "dframe = pd.DataFrame([s1,s2,s3,s4],index =[0,1,2,3], columns =[0,1,2])\n",
        "print(dframe)"
      ],
      "metadata": {
        "id": "ID4tqGY2FmtZ",
        "colab": {
          "base_uri": "https://localhost:8080/"
        },
        "outputId": "4f535c82-d52d-4b84-a5b2-f93260df37a0"
      },
      "execution_count": 7,
      "outputs": [
        {
          "output_type": "stream",
          "name": "stdout",
          "text": [
            "   0   1   2\n",
            "0  0   4   8\n",
            "1  1   5   9\n",
            "2  2   6   8\n",
            "3  5  10  15\n"
          ]
        }
      ]
    },
    {
      "cell_type": "markdown",
      "source": [
        "How are you going to delete indices no. 0,1,3 leaving only all items in index"
      ],
      "metadata": {
        "id": "WGZgWYIBKHC6"
      }
    },
    {
      "cell_type": "code",
      "source": [
        "import pandas as pd\n",
        "s1 = pd.Series([0,4,8])\n",
        "s2 = pd.Series([1,5,9])\n",
        "s3 = pd.Series([2,6,8])\n",
        "s4 = pd.Series([5,10,15])\n",
        "\n",
        "#creating multi-dimensional table\n",
        "dframe = pd.DataFrame([s1,s2,s3,s4],index =[0,1,2,3], columns =[0,1,2])\n",
        "\n",
        "#delete indices no. 0,1,3\n",
        "dframe = dframe.drop(dframe.index[[0,1,3]])\n",
        "print(dframe)\n"
      ],
      "metadata": {
        "colab": {
          "base_uri": "https://localhost:8080/"
        },
        "id": "2OJoK0N_LrDM",
        "outputId": "8bfd21ee-66e0-4c75-cef2-ca5d43d25425"
      },
      "execution_count": 8,
      "outputs": [
        {
          "output_type": "stream",
          "name": "stdout",
          "text": [
            "   0  1  2\n",
            "2  2  6  8\n"
          ]
        }
      ]
    }
  ]
}