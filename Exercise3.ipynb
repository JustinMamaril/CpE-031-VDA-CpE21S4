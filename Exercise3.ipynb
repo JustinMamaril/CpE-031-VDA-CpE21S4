{
  "nbformat": 4,
  "nbformat_minor": 0,
  "metadata": {
    "colab": {
      "provenance": [],
      "authorship_tag": "ABX9TyOtHzjs0Hn/K5yR6lMmYZ8P",
      "include_colab_link": true
    },
    "kernelspec": {
      "name": "python3",
      "display_name": "Python 3"
    },
    "language_info": {
      "name": "python"
    }
  },
  "cells": [
    {
      "cell_type": "markdown",
      "metadata": {
        "id": "view-in-github",
        "colab_type": "text"
      },
      "source": [
        "<a href=\"https://colab.research.google.com/github/JustinMamaril/CpE-031-VDA-CpE21S4/blob/main/Exercise3.ipynb\" target=\"_parent\"><img src=\"https://colab.research.google.com/assets/colab-badge.svg\" alt=\"Open In Colab\"/></a>"
      ]
    },
    {
      "cell_type": "markdown",
      "source": [
        "1. import sampledata.csu to google colab\n",
        "2. read the contents of sample.data.csv\n",
        "3. show all top 10 records\n",
        "4. show all bottom 10 records\n",
        "5. eliminate all duplicated records\n",
        "6. save the contents(removed duplicate records) into new file sample.datenew.csv"
      ],
      "metadata": {
        "id": "095Uuegz72jS"
      }
    },
    {
      "cell_type": "markdown",
      "source": [
        "# **1. Import SampleData.csv to Google Colab**"
      ],
      "metadata": {
        "id": "jbg3vIdy9H2R"
      }
    },
    {
      "cell_type": "code",
      "execution_count": 38,
      "metadata": {
        "colab": {
          "base_uri": "https://localhost:8080/",
          "height": 73
        },
        "id": "T4jnayQb71R8",
        "outputId": "ec5cc791-d294-4e1d-ddb0-c38018b879e4"
      },
      "outputs": [
        {
          "output_type": "display_data",
          "data": {
            "text/plain": [
              "<IPython.core.display.HTML object>"
            ],
            "text/html": [
              "\n",
              "     <input type=\"file\" id=\"files-62196f95-1a62-4564-a3e0-f905e1e38d88\" name=\"files[]\" multiple disabled\n",
              "        style=\"border:none\" />\n",
              "     <output id=\"result-62196f95-1a62-4564-a3e0-f905e1e38d88\">\n",
              "      Upload widget is only available when the cell has been executed in the\n",
              "      current browser session. Please rerun this cell to enable.\n",
              "      </output>\n",
              "      <script>// Copyright 2017 Google LLC\n",
              "//\n",
              "// Licensed under the Apache License, Version 2.0 (the \"License\");\n",
              "// you may not use this file except in compliance with the License.\n",
              "// You may obtain a copy of the License at\n",
              "//\n",
              "//      http://www.apache.org/licenses/LICENSE-2.0\n",
              "//\n",
              "// Unless required by applicable law or agreed to in writing, software\n",
              "// distributed under the License is distributed on an \"AS IS\" BASIS,\n",
              "// WITHOUT WARRANTIES OR CONDITIONS OF ANY KIND, either express or implied.\n",
              "// See the License for the specific language governing permissions and\n",
              "// limitations under the License.\n",
              "\n",
              "/**\n",
              " * @fileoverview Helpers for google.colab Python module.\n",
              " */\n",
              "(function(scope) {\n",
              "function span(text, styleAttributes = {}) {\n",
              "  const element = document.createElement('span');\n",
              "  element.textContent = text;\n",
              "  for (const key of Object.keys(styleAttributes)) {\n",
              "    element.style[key] = styleAttributes[key];\n",
              "  }\n",
              "  return element;\n",
              "}\n",
              "\n",
              "// Max number of bytes which will be uploaded at a time.\n",
              "const MAX_PAYLOAD_SIZE = 100 * 1024;\n",
              "\n",
              "function _uploadFiles(inputId, outputId) {\n",
              "  const steps = uploadFilesStep(inputId, outputId);\n",
              "  const outputElement = document.getElementById(outputId);\n",
              "  // Cache steps on the outputElement to make it available for the next call\n",
              "  // to uploadFilesContinue from Python.\n",
              "  outputElement.steps = steps;\n",
              "\n",
              "  return _uploadFilesContinue(outputId);\n",
              "}\n",
              "\n",
              "// This is roughly an async generator (not supported in the browser yet),\n",
              "// where there are multiple asynchronous steps and the Python side is going\n",
              "// to poll for completion of each step.\n",
              "// This uses a Promise to block the python side on completion of each step,\n",
              "// then passes the result of the previous step as the input to the next step.\n",
              "function _uploadFilesContinue(outputId) {\n",
              "  const outputElement = document.getElementById(outputId);\n",
              "  const steps = outputElement.steps;\n",
              "\n",
              "  const next = steps.next(outputElement.lastPromiseValue);\n",
              "  return Promise.resolve(next.value.promise).then((value) => {\n",
              "    // Cache the last promise value to make it available to the next\n",
              "    // step of the generator.\n",
              "    outputElement.lastPromiseValue = value;\n",
              "    return next.value.response;\n",
              "  });\n",
              "}\n",
              "\n",
              "/**\n",
              " * Generator function which is called between each async step of the upload\n",
              " * process.\n",
              " * @param {string} inputId Element ID of the input file picker element.\n",
              " * @param {string} outputId Element ID of the output display.\n",
              " * @return {!Iterable<!Object>} Iterable of next steps.\n",
              " */\n",
              "function* uploadFilesStep(inputId, outputId) {\n",
              "  const inputElement = document.getElementById(inputId);\n",
              "  inputElement.disabled = false;\n",
              "\n",
              "  const outputElement = document.getElementById(outputId);\n",
              "  outputElement.innerHTML = '';\n",
              "\n",
              "  const pickedPromise = new Promise((resolve) => {\n",
              "    inputElement.addEventListener('change', (e) => {\n",
              "      resolve(e.target.files);\n",
              "    });\n",
              "  });\n",
              "\n",
              "  const cancel = document.createElement('button');\n",
              "  inputElement.parentElement.appendChild(cancel);\n",
              "  cancel.textContent = 'Cancel upload';\n",
              "  const cancelPromise = new Promise((resolve) => {\n",
              "    cancel.onclick = () => {\n",
              "      resolve(null);\n",
              "    };\n",
              "  });\n",
              "\n",
              "  // Wait for the user to pick the files.\n",
              "  const files = yield {\n",
              "    promise: Promise.race([pickedPromise, cancelPromise]),\n",
              "    response: {\n",
              "      action: 'starting',\n",
              "    }\n",
              "  };\n",
              "\n",
              "  cancel.remove();\n",
              "\n",
              "  // Disable the input element since further picks are not allowed.\n",
              "  inputElement.disabled = true;\n",
              "\n",
              "  if (!files) {\n",
              "    return {\n",
              "      response: {\n",
              "        action: 'complete',\n",
              "      }\n",
              "    };\n",
              "  }\n",
              "\n",
              "  for (const file of files) {\n",
              "    const li = document.createElement('li');\n",
              "    li.append(span(file.name, {fontWeight: 'bold'}));\n",
              "    li.append(span(\n",
              "        `(${file.type || 'n/a'}) - ${file.size} bytes, ` +\n",
              "        `last modified: ${\n",
              "            file.lastModifiedDate ? file.lastModifiedDate.toLocaleDateString() :\n",
              "                                    'n/a'} - `));\n",
              "    const percent = span('0% done');\n",
              "    li.appendChild(percent);\n",
              "\n",
              "    outputElement.appendChild(li);\n",
              "\n",
              "    const fileDataPromise = new Promise((resolve) => {\n",
              "      const reader = new FileReader();\n",
              "      reader.onload = (e) => {\n",
              "        resolve(e.target.result);\n",
              "      };\n",
              "      reader.readAsArrayBuffer(file);\n",
              "    });\n",
              "    // Wait for the data to be ready.\n",
              "    let fileData = yield {\n",
              "      promise: fileDataPromise,\n",
              "      response: {\n",
              "        action: 'continue',\n",
              "      }\n",
              "    };\n",
              "\n",
              "    // Use a chunked sending to avoid message size limits. See b/62115660.\n",
              "    let position = 0;\n",
              "    do {\n",
              "      const length = Math.min(fileData.byteLength - position, MAX_PAYLOAD_SIZE);\n",
              "      const chunk = new Uint8Array(fileData, position, length);\n",
              "      position += length;\n",
              "\n",
              "      const base64 = btoa(String.fromCharCode.apply(null, chunk));\n",
              "      yield {\n",
              "        response: {\n",
              "          action: 'append',\n",
              "          file: file.name,\n",
              "          data: base64,\n",
              "        },\n",
              "      };\n",
              "\n",
              "      let percentDone = fileData.byteLength === 0 ?\n",
              "          100 :\n",
              "          Math.round((position / fileData.byteLength) * 100);\n",
              "      percent.textContent = `${percentDone}% done`;\n",
              "\n",
              "    } while (position < fileData.byteLength);\n",
              "  }\n",
              "\n",
              "  // All done.\n",
              "  yield {\n",
              "    response: {\n",
              "      action: 'complete',\n",
              "    }\n",
              "  };\n",
              "}\n",
              "\n",
              "scope.google = scope.google || {};\n",
              "scope.google.colab = scope.google.colab || {};\n",
              "scope.google.colab._files = {\n",
              "  _uploadFiles,\n",
              "  _uploadFilesContinue,\n",
              "};\n",
              "})(self);\n",
              "</script> "
            ]
          },
          "metadata": {}
        },
        {
          "output_type": "stream",
          "name": "stdout",
          "text": [
            "Saving SampleData.csv to SampleData (4).csv\n"
          ]
        }
      ],
      "source": [
        "from google.colab import files\n",
        "uploaded = files.upload()"
      ]
    },
    {
      "cell_type": "markdown",
      "source": [
        "# **2. Read the contents of SampleData.csv**"
      ],
      "metadata": {
        "id": "_Yyt1dbz9NpJ"
      }
    },
    {
      "cell_type": "code",
      "source": [
        "import pandas as pd\n",
        "df = pd.read_csv('SampleData.csv')"
      ],
      "metadata": {
        "id": "ssF4vm5g8Yfi"
      },
      "execution_count": 39,
      "outputs": []
    },
    {
      "cell_type": "markdown",
      "source": [
        "# **3. Show all top 10 records**"
      ],
      "metadata": {
        "id": "x5zfnWyh98Lg"
      }
    },
    {
      "cell_type": "code",
      "source": [
        "print (df.head(10))"
      ],
      "metadata": {
        "colab": {
          "base_uri": "https://localhost:8080/"
        },
        "id": "qbf8sSnT90ax",
        "outputId": "438b68df-d720-46df-8822-aa8d6a1e8190"
      },
      "execution_count": 40,
      "outputs": [
        {
          "output_type": "stream",
          "name": "stdout",
          "text": [
            "  OrderDate   Region       Rep    Item  Units  Unit Cost     Total\n",
            "0    1/6/21     East     Jones  Pencil     95       1.99   189.05 \n",
            "1   1/23/21  Central    Kivell  Binder     50      19.99   999.50 \n",
            "2    2/9/21  Central   Jardine  Pencil     36       4.99   179.64 \n",
            "3   2/26/21  Central      Gill     Pen     27      19.99   539.73 \n",
            "4   3/15/21     West   Sorvino  Pencil     56       2.99   167.44 \n",
            "5    4/1/21     East     Jones  Binder     60       4.99   299.40 \n",
            "6   4/18/21  Central   Andrews  Pencil     75       1.99   149.25 \n",
            "7    5/5/21  Central   Jardine  Pencil     90       4.99   449.10 \n",
            "8   5/22/21     West  Thompson  Pencil     32       1.99    63.68 \n",
            "9    6/8/21     East     Jones  Binder     60       8.99   539.40 \n"
          ]
        }
      ]
    },
    {
      "cell_type": "markdown",
      "source": [
        "# **4. Show all bottom 10 records**"
      ],
      "metadata": {
        "id": "BTD6JLfp-CNI"
      }
    },
    {
      "cell_type": "code",
      "source": [
        "print (df.tail(10))"
      ],
      "metadata": {
        "colab": {
          "base_uri": "https://localhost:8080/"
        },
        "id": "N6frR5n2-JKh",
        "outputId": "29d237ea-40e2-4ff2-8177-e3e5004e66c6"
      },
      "execution_count": 41,
      "outputs": [
        {
          "output_type": "stream",
          "name": "stdout",
          "text": [
            "   OrderDate   Region       Rep     Item  Units  Unit Cost       Total\n",
            "33   7/21/22  Central    Morgan  Pen Set     55      12.49     686.95 \n",
            "34   7/21/22  Central    Morgan  Pen Set     55      12.49     686.95 \n",
            "35   7/21/22  Central    Morgan  Pen Set     55      12.49     686.95 \n",
            "36   9/10/22  Central      Gill   Pencil      7       1.29       9.03 \n",
            "37   9/27/22     West   Sorvino      Pen     76       1.99     151.24 \n",
            "38  10/14/22     West  Thompson   Binder     57      19.99   1,139.43 \n",
            "39  10/31/22  Central   Andrews   Pencil     14       1.29      18.06 \n",
            "40  11/17/22  Central   Jardine   Binder     11       4.99      54.89 \n",
            "41   12/4/22  Central   Jardine   Binder     94      19.99   1,879.06 \n",
            "42  12/21/22  Central   Andrews   Binder     28       4.99     139.72 \n"
          ]
        }
      ]
    },
    {
      "cell_type": "markdown",
      "source": [
        "# **5. Eliminate all duplicated records**"
      ],
      "metadata": {
        "id": "ZFGiswyv-xIK"
      }
    },
    {
      "cell_type": "code",
      "source": [
        "print(df.duplicated())\n",
        "df.drop_duplicates(inplace = True)\n",
        "print (df)"
      ],
      "metadata": {
        "colab": {
          "base_uri": "https://localhost:8080/"
        },
        "id": "BikYO17P8twi",
        "outputId": "5a66428a-670e-47d5-f469-dd9911b8b957"
      },
      "execution_count": 42,
      "outputs": [
        {
          "output_type": "stream",
          "name": "stdout",
          "text": [
            "0     False\n",
            "1     False\n",
            "2     False\n",
            "3     False\n",
            "4     False\n",
            "5     False\n",
            "6     False\n",
            "7     False\n",
            "8     False\n",
            "9     False\n",
            "10    False\n",
            "11    False\n",
            "12    False\n",
            "13    False\n",
            "14    False\n",
            "15     True\n",
            "16    False\n",
            "17    False\n",
            "18    False\n",
            "19    False\n",
            "20    False\n",
            "21    False\n",
            "22     True\n",
            "23    False\n",
            "24    False\n",
            "25    False\n",
            "26    False\n",
            "27    False\n",
            "28    False\n",
            "29    False\n",
            "30    False\n",
            "31    False\n",
            "32    False\n",
            "33    False\n",
            "34     True\n",
            "35     True\n",
            "36    False\n",
            "37    False\n",
            "38    False\n",
            "39    False\n",
            "40    False\n",
            "41    False\n",
            "42    False\n",
            "dtype: bool\n",
            "   OrderDate   Region       Rep     Item  Units  Unit Cost       Total\n",
            "0     1/6/21     East     Jones   Pencil     95       1.99     189.05 \n",
            "1    1/23/21  Central    Kivell   Binder     50      19.99     999.50 \n",
            "2     2/9/21  Central   Jardine   Pencil     36       4.99     179.64 \n",
            "3    2/26/21  Central      Gill      Pen     27      19.99     539.73 \n",
            "4    3/15/21     West   Sorvino   Pencil     56       2.99     167.44 \n",
            "5     4/1/21     East     Jones   Binder     60       4.99     299.40 \n",
            "6    4/18/21  Central   Andrews   Pencil     75       1.99     149.25 \n",
            "7     5/5/21  Central   Jardine   Pencil     90       4.99     449.10 \n",
            "8    5/22/21     West  Thompson   Pencil     32       1.99      63.68 \n",
            "9     6/8/21     East     Jones   Binder     60       8.99     539.40 \n",
            "10   6/25/21  Central    Morgan   Pencil     90       4.99     449.10 \n",
            "11   7/12/21     East    Howard   Binder     29       1.99      57.71 \n",
            "12   7/29/21     East    Parent   Binder     81      19.99   1,619.19 \n",
            "13   8/15/21     East     Jones   Pencil     35       4.99     174.65 \n",
            "14    9/1/21  Central     Smith     Desk      2     125.00     250.00 \n",
            "16   10/5/21  Central    Morgan   Binder     28       8.99     251.72 \n",
            "17  10/22/21     East     Jones      Pen     64       8.99     575.36 \n",
            "18   11/8/21     East    Parent      Pen     15      19.99     299.85 \n",
            "19  11/25/21  Central    Kivell  Pen Set     96       4.99     479.04 \n",
            "20  12/12/21  Central     Smith   Pencil     67       1.29      86.43 \n",
            "21  12/29/21     East    Parent  Pen Set     74      15.99   1,183.26 \n",
            "23    2/1/22  Central     Smith   Binder     87      15.00   1,305.00 \n",
            "24   2/18/22     East     Jones   Binder      4       4.99      19.96 \n",
            "25    3/7/22     West   Sorvino   Binder      7      19.99     139.93 \n",
            "26   3/24/22  Central   Jardine  Pen Set     50       4.99     249.50 \n",
            "27   4/10/22  Central   Andrews   Pencil     66       1.99     131.34 \n",
            "28   4/27/22     East    Howard      Pen     96       4.99     479.04 \n",
            "29   5/14/22  Central      Gill   Pencil     53       1.29      68.37 \n",
            "30   5/31/22  Central      Gill   Binder     80       8.99     719.20 \n",
            "31   6/17/22  Central    Kivell     Desk      5     125.00     625.00 \n",
            "32    7/4/22     East     Jones  Pen Set     62       4.99     309.38 \n",
            "33   7/21/22  Central    Morgan  Pen Set     55      12.49     686.95 \n",
            "36   9/10/22  Central      Gill   Pencil      7       1.29       9.03 \n",
            "37   9/27/22     West   Sorvino      Pen     76       1.99     151.24 \n",
            "38  10/14/22     West  Thompson   Binder     57      19.99   1,139.43 \n",
            "39  10/31/22  Central   Andrews   Pencil     14       1.29      18.06 \n",
            "40  11/17/22  Central   Jardine   Binder     11       4.99      54.89 \n",
            "41   12/4/22  Central   Jardine   Binder     94      19.99   1,879.06 \n",
            "42  12/21/22  Central   Andrews   Binder     28       4.99     139.72 \n"
          ]
        }
      ]
    },
    {
      "cell_type": "markdown",
      "source": [
        "# **6. Save the contents (removed duplicate records) into new file sampledatanew.csv**\n"
      ],
      "metadata": {
        "id": "aZd21pev-8ao"
      }
    },
    {
      "cell_type": "code",
      "source": [
        "from tabulate import tabulate\n",
        "print(tabulate(df, headers= 'keys', tablefmt= 'psq1', showindex=False))\n",
        "df.drop_duplicates(inplace=True)\n",
        "df.to_csv('SampleDataNew.csv')"
      ],
      "metadata": {
        "colab": {
          "base_uri": "https://localhost:8080/"
        },
        "id": "tBoTSzEt86JI",
        "outputId": "a3ae6b9d-d6ec-49b3-8afb-5469e60e079e"
      },
      "execution_count": 54,
      "outputs": [
        {
          "output_type": "stream",
          "name": "stdout",
          "text": [
            "OrderDate    Region    Rep       Item       Units    Unit Cost  Total\n",
            "-----------  --------  --------  -------  -------  -----------  --------\n",
            "1/6/21       East      Jones     Pencil        95         1.99  189.05\n",
            "1/23/21      Central   Kivell    Binder        50        19.99  999.50\n",
            "2/9/21       Central   Jardine   Pencil        36         4.99  179.64\n",
            "2/26/21      Central   Gill      Pen           27        19.99  539.73\n",
            "3/15/21      West      Sorvino   Pencil        56         2.99  167.44\n",
            "4/1/21       East      Jones     Binder        60         4.99  299.40\n",
            "4/18/21      Central   Andrews   Pencil        75         1.99  149.25\n",
            "5/5/21       Central   Jardine   Pencil        90         4.99  449.10\n",
            "5/22/21      West      Thompson  Pencil        32         1.99  63.68\n",
            "6/8/21       East      Jones     Binder        60         8.99  539.40\n",
            "6/25/21      Central   Morgan    Pencil        90         4.99  449.10\n",
            "7/12/21      East      Howard    Binder        29         1.99  57.71\n",
            "7/29/21      East      Parent    Binder        81        19.99  1,619.19\n",
            "8/15/21      East      Jones     Pencil        35         4.99  174.65\n",
            "9/1/21       Central   Smith     Desk           2       125     250.00\n",
            "10/5/21      Central   Morgan    Binder        28         8.99  251.72\n",
            "10/22/21     East      Jones     Pen           64         8.99  575.36\n",
            "11/8/21      East      Parent    Pen           15        19.99  299.85\n",
            "11/25/21     Central   Kivell    Pen Set       96         4.99  479.04\n",
            "12/12/21     Central   Smith     Pencil        67         1.29  86.43\n",
            "12/29/21     East      Parent    Pen Set       74        15.99  1,183.26\n",
            "2/1/22       Central   Smith     Binder        87        15     1,305.00\n",
            "2/18/22      East      Jones     Binder         4         4.99  19.96\n",
            "3/7/22       West      Sorvino   Binder         7        19.99  139.93\n",
            "3/24/22      Central   Jardine   Pen Set       50         4.99  249.50\n",
            "4/10/22      Central   Andrews   Pencil        66         1.99  131.34\n",
            "4/27/22      East      Howard    Pen           96         4.99  479.04\n",
            "5/14/22      Central   Gill      Pencil        53         1.29  68.37\n",
            "5/31/22      Central   Gill      Binder        80         8.99  719.20\n",
            "6/17/22      Central   Kivell    Desk           5       125     625.00\n",
            "7/4/22       East      Jones     Pen Set       62         4.99  309.38\n",
            "7/21/22      Central   Morgan    Pen Set       55        12.49  686.95\n",
            "9/10/22      Central   Gill      Pencil         7         1.29  9.03\n",
            "9/27/22      West      Sorvino   Pen           76         1.99  151.24\n",
            "10/14/22     West      Thompson  Binder        57        19.99  1,139.43\n",
            "10/31/22     Central   Andrews   Pencil        14         1.29  18.06\n",
            "11/17/22     Central   Jardine   Binder        11         4.99  54.89\n",
            "12/4/22      Central   Jardine   Binder        94        19.99  1,879.06\n",
            "12/21/22     Central   Andrews   Binder        28         4.99  139.72\n"
          ]
        }
      ]
    },
    {
      "cell_type": "markdown",
      "source": [
        "# **7. Display the 1st and 2nd columns**"
      ],
      "metadata": {
        "id": "a1hnf-dZM8vx"
      }
    },
    {
      "cell_type": "code",
      "source": [],
      "metadata": {
        "id": "gwlKJr8FNA1n"
      },
      "execution_count": null,
      "outputs": []
    },
    {
      "cell_type": "code",
      "source": [
        "print (df[['OrderDate', 'Region']])"
      ],
      "metadata": {
        "colab": {
          "base_uri": "https://localhost:8080/"
        },
        "id": "2KCqFxZrMMqK",
        "outputId": "41bf9f9b-8327-4026-8c71-b8d5d75c0d0b"
      },
      "execution_count": 58,
      "outputs": [
        {
          "output_type": "stream",
          "name": "stdout",
          "text": [
            "   OrderDate   Region\n",
            "0     1/6/21     East\n",
            "1    1/23/21  Central\n",
            "2     2/9/21  Central\n",
            "3    2/26/21  Central\n",
            "4    3/15/21     West\n",
            "5     4/1/21     East\n",
            "6    4/18/21  Central\n",
            "7     5/5/21  Central\n",
            "8    5/22/21     West\n",
            "9     6/8/21     East\n",
            "10   6/25/21  Central\n",
            "11   7/12/21     East\n",
            "12   7/29/21     East\n",
            "13   8/15/21     East\n",
            "14    9/1/21  Central\n",
            "16   10/5/21  Central\n",
            "17  10/22/21     East\n",
            "18   11/8/21     East\n",
            "19  11/25/21  Central\n",
            "20  12/12/21  Central\n",
            "21  12/29/21     East\n",
            "23    2/1/22  Central\n",
            "24   2/18/22     East\n",
            "25    3/7/22     West\n",
            "26   3/24/22  Central\n",
            "27   4/10/22  Central\n",
            "28   4/27/22     East\n",
            "29   5/14/22  Central\n",
            "30   5/31/22  Central\n",
            "31   6/17/22  Central\n",
            "32    7/4/22     East\n",
            "33   7/21/22  Central\n",
            "36   9/10/22  Central\n",
            "37   9/27/22     West\n",
            "38  10/14/22     West\n",
            "39  10/31/22  Central\n",
            "40  11/17/22  Central\n",
            "41   12/4/22  Central\n",
            "42  12/21/22  Central\n"
          ]
        }
      ]
    },
    {
      "cell_type": "markdown",
      "source": [
        "==================================================================================================================="
      ],
      "metadata": {
        "id": "j6m3L9h9_NR7"
      }
    }
  ]
}