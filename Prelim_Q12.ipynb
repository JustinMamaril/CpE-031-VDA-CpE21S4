{
  "nbformat": 4,
  "nbformat_minor": 0,
  "metadata": {
    "colab": {
      "provenance": [],
      "authorship_tag": "ABX9TyNBK7GJ+H3ZV0kZIaHEZkTN",
      "include_colab_link": true
    },
    "kernelspec": {
      "name": "python3",
      "display_name": "Python 3"
    },
    "language_info": {
      "name": "python"
    }
  },
  "cells": [
    {
      "cell_type": "markdown",
      "metadata": {
        "id": "view-in-github",
        "colab_type": "text"
      },
      "source": [
        "<a href=\"https://colab.research.google.com/github/JustinMamaril/VDA-CpE-031-CpE21S4/blob/main/Prelim_Q12.ipynb\" target=\"_parent\"><img src=\"https://colab.research.google.com/assets/colab-badge.svg\" alt=\"Open In Colab\"/></a>"
      ]
    },
    {
      "cell_type": "markdown",
      "source": [
        "Write a Pandas program to delete Data Frame row(s) based on given column value."
      ],
      "metadata": {
        "id": "GbrDDN2OC-1C"
      }
    },
    {
      "cell_type": "code",
      "execution_count": 4,
      "metadata": {
        "colab": {
          "base_uri": "https://localhost:8080/"
        },
        "id": "jRcV6dTCC9EC",
        "outputId": "3660b606-4849-4c1d-c2f4-d575d87b6c71"
      },
      "outputs": [
        {
          "output_type": "stream",
          "name": "stdout",
          "text": [
            "   col1  col2  col3\n",
            "0     1     4     7\n",
            "1     4     5     8\n",
            "2     3     6     9\n",
            "3     4     7     0\n",
            "4     5     8     1\n",
            "New DataFrame\n",
            "   col1  col2  col3\n",
            "0     1     4     7\n",
            "2     3     6     9\n",
            "3     4     7     0\n",
            "4     5     8     1\n"
          ]
        }
      ],
      "source": [
        "import pandas as pd\n",
        "\n",
        "# Create a dictionary\n",
        "data = {'col1': [1, 4, 3, 4, 5],\n",
        "        'col2': [4, 5, 6, 7, 8],\n",
        "        'col3': [7, 8, 9, 0, 1]}\n",
        "\n",
        "# Create a DataFrame from the dictionary\n",
        "df = pd.DataFrame(data)\n",
        "\n",
        "print (df)\n",
        "print (\"New DataFrame\")\n",
        "\n",
        "# Delete Data frame row 1\n",
        "df = df.drop(index=1)\n",
        "\n",
        "# Display the DataFrame\n",
        "print(df)"
      ]
    }
  ]
}